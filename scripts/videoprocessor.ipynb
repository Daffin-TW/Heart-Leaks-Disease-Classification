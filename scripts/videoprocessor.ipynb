{
 "cells": [
  {
   "cell_type": "code",
   "execution_count": 45,
   "id": "ae7727d7",
   "metadata": {},
   "outputs": [
    {
     "data": {
      "text/plain": [
       "'/home/kadafi/Documents/AWU/Heart-Leaks-Disease-Classification'"
      ]
     },
     "execution_count": 45,
     "metadata": {},
     "output_type": "execute_result"
    }
   ],
   "source": [
    "import os\n",
    "\n",
    "folder_path = os.getcwd()\n",
    "ws_path = os.path.dirname(folder_path)\n",
    "ws_path"
   ]
  },
  {
   "cell_type": "code",
   "execution_count": 46,
   "id": "4119129c",
   "metadata": {},
   "outputs": [],
   "source": [
    "list_dir = os.listdir(ws_path)\n",
    "video_path = ws_path + '/rawDataset'\n",
    "frame_path = ws_path + '/rawFrame'\n",
    "nor_path = video_path + '/Normal'\n",
    "vsd_path = video_path + '/VSD'\n",
    "nor_fr_path = frame_path + '/normal'\n",
    "vsd_fr_path = frame_path + '/vsd'"
   ]
  },
  {
   "cell_type": "code",
   "execution_count": 47,
   "id": "99cebaf8",
   "metadata": {},
   "outputs": [],
   "source": [
    "pas_folders = os.listdir(nor_path)\n",
    "nor_files_paths = list()\n",
    "\n",
    "for pas in pas_folders:\n",
    "    path = nor_path + f'/{pas}'\n",
    "    files = os.listdir(path)\n",
    "\n",
    "    file_paths = [path + f'/{i}' for i in files]\n",
    "    nor_files_paths += file_paths"
   ]
  },
  {
   "cell_type": "code",
   "execution_count": 48,
   "id": "1745e079",
   "metadata": {},
   "outputs": [],
   "source": [
    "pos_folders = os.listdir(vsd_path)\n",
    "vsd_files_paths = list()\n",
    "\n",
    "for pos in pos_folders:\n",
    "    path = vsd_path + f'/{pos}'\n",
    "    files = os.listdir(path)\n",
    "\n",
    "    file_paths = [path + f'/{i}' for i in files]\n",
    "    vsd_files_paths += file_paths"
   ]
  },
  {
   "cell_type": "code",
   "execution_count": 49,
   "id": "e9c61ab1",
   "metadata": {},
   "outputs": [],
   "source": [
    "# import ffmpeg import FF\n",
    "\n",
    "# def extract_frames():\n",
    "#     ffmpeg = (\n",
    "#         FF()\n",
    "#         .option('y')\n",
    "#         .input\n",
    "#     )"
   ]
  },
  {
   "cell_type": "code",
   "execution_count": null,
   "id": "55813d6a",
   "metadata": {},
   "outputs": [],
   "source": []
  }
 ],
 "metadata": {
  "kernelspec": {
   "display_name": "venv",
   "language": "python",
   "name": "python3"
  },
  "language_info": {
   "codemirror_mode": {
    "name": "ipython",
    "version": 3
   },
   "file_extension": ".py",
   "mimetype": "text/x-python",
   "name": "python",
   "nbconvert_exporter": "python",
   "pygments_lexer": "ipython3",
   "version": "3.12.7"
  }
 },
 "nbformat": 4,
 "nbformat_minor": 5
}
