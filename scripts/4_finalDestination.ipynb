{
 "cells": [
  {
   "cell_type": "code",
   "execution_count": 1,
   "id": "0650875f",
   "metadata": {},
   "outputs": [
    {
     "name": "stderr",
     "output_type": "stream",
     "text": [
      "2025-06-21 18:10:34.703303: E external/local_xla/xla/stream_executor/cuda/cuda_fft.cc:467] Unable to register cuFFT factory: Attempting to register factory for plugin cuFFT when one has already been registered\n",
      "WARNING: All log messages before absl::InitializeLog() is called are written to STDERR\n",
      "E0000 00:00:1750504234.747617    5097 cuda_dnn.cc:8579] Unable to register cuDNN factory: Attempting to register factory for plugin cuDNN when one has already been registered\n",
      "E0000 00:00:1750504234.767937    5097 cuda_blas.cc:1407] Unable to register cuBLAS factory: Attempting to register factory for plugin cuBLAS when one has already been registered\n",
      "W0000 00:00:1750504234.813720    5097 computation_placer.cc:177] computation placer already registered. Please check linkage and avoid linking the same target more than once.\n",
      "W0000 00:00:1750504234.813759    5097 computation_placer.cc:177] computation placer already registered. Please check linkage and avoid linking the same target more than once.\n",
      "W0000 00:00:1750504234.813762    5097 computation_placer.cc:177] computation placer already registered. Please check linkage and avoid linking the same target more than once.\n",
      "W0000 00:00:1750504234.813765    5097 computation_placer.cc:177] computation placer already registered. Please check linkage and avoid linking the same target more than once.\n",
      "2025-06-21 18:10:34.827546: I tensorflow/core/platform/cpu_feature_guard.cc:210] This TensorFlow binary is optimized to use available CPU instructions in performance-critical operations.\n",
      "To enable the following instructions: AVX2 FMA, in other operations, rebuild TensorFlow with the appropriate compiler flags.\n"
     ]
    }
   ],
   "source": [
    "from tensorflow.keras.preprocessing.image import ImageDataGenerator\n",
    "import os"
   ]
  },
  {
   "cell_type": "code",
   "execution_count": 2,
   "id": "27bd2f58",
   "metadata": {},
   "outputs": [],
   "source": [
    "folder_path = os.getcwd()\n",
    "ws_path = os.path.dirname(folder_path)\n",
    "\n",
    "list_dir = os.listdir(ws_path)\n",
    "prepro_data_path = ws_path + '/preproDataset'\n",
    "nor_prepro_path = prepro_data_path + '/normal'\n",
    "vsd_prepro_path = prepro_data_path + '/vsd'"
   ]
  },
  {
   "cell_type": "code",
   "execution_count": 3,
   "id": "47b0bd8f",
   "metadata": {},
   "outputs": [
    {
     "name": "stderr",
     "output_type": "stream",
     "text": [
      "I0000 00:00:1750504244.121074    5097 gpu_device.cc:2019] Created device /job:localhost/replica:0/task:0/device:GPU:0 with 1989 MB memory:  -> device: 0, name: NVIDIA GeForce GTX 1050, pci bus id: 0000:01:00.0, compute capability: 6.1\n",
      "WARNING:absl:Compiled the loaded model, but the compiled metrics have yet to be built. `model.compile_metrics` will be empty until you train or evaluate the model.\n"
     ]
    },
    {
     "name": "stdout",
     "output_type": "stream",
     "text": [
      "Found 674 images belonging to 2 classes.\n"
     ]
    },
    {
     "name": "stderr",
     "output_type": "stream",
     "text": [
      "/home/daffin_tw/python-environments/tf219/lib/python3.12/site-packages/keras/src/trainers/data_adapters/py_dataset_adapter.py:121: UserWarning: Your `PyDataset` class should call `super().__init__(**kwargs)` in its constructor. `**kwargs` can include `workers`, `use_multiprocessing`, `max_queue_size`. Do not pass these arguments to `fit()`, as they will be ignored.\n",
      "  self._warn_if_super_not_called()\n",
      "WARNING: All log messages before absl::InitializeLog() is called are written to STDERR\n",
      "I0000 00:00:1750504247.565698    5175 service.cc:152] XLA service 0x71a7000017f0 initialized for platform CUDA (this does not guarantee that XLA will be used). Devices:\n",
      "I0000 00:00:1750504247.565749    5175 service.cc:160]   StreamExecutor device (0): NVIDIA GeForce GTX 1050, Compute Capability 6.1\n",
      "2025-06-21 18:10:47.593074: I tensorflow/compiler/mlir/tensorflow/utils/dump_mlir_util.cc:269] disabling MLIR crash reproducer, set env var `MLIR_CRASH_REPRODUCER_DIRECTORY` to enable.\n",
      "I0000 00:00:1750504247.861079    5175 cuda_dnn.cc:529] Loaded cuDNN version 90300\n",
      "2025-06-21 18:10:49.440163: I external/local_xla/xla/service/gpu/autotuning/conv_algorithm_picker.cc:549] Omitted potentially buggy algorithm eng14{} for conv %cudnn-conv-bias-activation.39 = (f32[32,64,224,224]{3,2,1,0}, u8[0]{0}) custom-call(f32[32,3,224,224]{3,2,1,0} %bitcast.711, f32[64,3,3,3]{3,2,1,0} %bitcast.718, f32[64]{0} %bitcast.720), window={size=3x3 pad=1_1x1_1}, dim_labels=bf01_oi01->bf01, custom_call_target=\"__cudnn$convBiasActivationForward\", metadata={op_type=\"Conv2D\" op_name=\"functional_1/block1_conv1_1/convolution\" source_file=\"/home/daffin_tw/python-environments/tf219/lib/python3.12/site-packages/tensorflow/python/framework/ops.py\" source_line=1200}, backend_config={\"operation_queue_id\":\"0\",\"wait_on_operation_queues\":[],\"cudnn_conv_backend_config\":{\"conv_result_scale\":1,\"activation_mode\":\"kRelu\",\"side_input_scale\":0,\"leakyrelu_alpha\":0},\"force_earliest_schedule\":false}\n",
      "2025-06-21 18:10:49.845393: W external/local_xla/xla/tsl/framework/bfc_allocator.cc:310] Allocator (GPU_0_bfc) ran out of memory trying to allocate 1.02GiB with freed_by_count=0. The caller indicates that this is not a failure, but this may mean that there could be performance gains if more memory were available.\n",
      "2025-06-21 18:10:51.247556: I external/local_xla/xla/service/gpu/autotuning/conv_algorithm_picker.cc:549] Omitted potentially buggy algorithm eng14{} for conv %cudnn-conv-bias-activation.40 = (f32[32,64,224,224]{3,2,1,0}, u8[0]{0}) custom-call(f32[32,64,224,224]{3,2,1,0} %bitcast.725, f32[64,64,3,3]{3,2,1,0} %bitcast.732, f32[64]{0} %bitcast.734), window={size=3x3 pad=1_1x1_1}, dim_labels=bf01_oi01->bf01, custom_call_target=\"__cudnn$convBiasActivationForward\", metadata={op_type=\"Conv2D\" op_name=\"functional_1/block1_conv2_1/convolution\" source_file=\"/home/daffin_tw/python-environments/tf219/lib/python3.12/site-packages/tensorflow/python/framework/ops.py\" source_line=1200}, backend_config={\"operation_queue_id\":\"0\",\"wait_on_operation_queues\":[],\"cudnn_conv_backend_config\":{\"conv_result_scale\":1,\"activation_mode\":\"kRelu\",\"side_input_scale\":0,\"leakyrelu_alpha\":0},\"force_earliest_schedule\":false}\n",
      "2025-06-21 18:10:54.469173: W external/local_xla/xla/tsl/framework/bfc_allocator.cc:310] Allocator (GPU_0_bfc) ran out of memory trying to allocate 3.46GiB with freed_by_count=0. The caller indicates that this is not a failure, but this may mean that there could be performance gains if more memory were available.\n",
      "2025-06-21 18:10:54.469310: W external/local_xla/xla/tsl/framework/bfc_allocator.cc:310] Allocator (GPU_0_bfc) ran out of memory trying to allocate 3.46GiB with freed_by_count=0. The caller indicates that this is not a failure, but this may mean that there could be performance gains if more memory were available.\n",
      "2025-06-21 18:10:55.037362: W external/local_xla/xla/tsl/framework/bfc_allocator.cc:310] Allocator (GPU_0_bfc) ran out of memory trying to allocate 3.04GiB with freed_by_count=0. The caller indicates that this is not a failure, but this may mean that there could be performance gains if more memory were available.\n",
      "2025-06-21 18:10:56.022906: I external/local_xla/xla/service/gpu/autotuning/conv_algorithm_picker.cc:549] Omitted potentially buggy algorithm eng14{} for conv %cudnn-conv-bias-activation.41 = (f32[32,128,112,112]{3,2,1,0}, u8[0]{0}) custom-call(f32[32,64,112,112]{3,2,1,0} %bitcast.741, f32[128,64,3,3]{3,2,1,0} %bitcast.748, f32[128]{0} %bitcast.750), window={size=3x3 pad=1_1x1_1}, dim_labels=bf01_oi01->bf01, custom_call_target=\"__cudnn$convBiasActivationForward\", metadata={op_type=\"Conv2D\" op_name=\"functional_1/block2_conv1_1/convolution\" source_file=\"/home/daffin_tw/python-environments/tf219/lib/python3.12/site-packages/tensorflow/python/framework/ops.py\" source_line=1200}, backend_config={\"operation_queue_id\":\"0\",\"wait_on_operation_queues\":[],\"cudnn_conv_backend_config\":{\"conv_result_scale\":1,\"activation_mode\":\"kRelu\",\"side_input_scale\":0,\"leakyrelu_alpha\":0},\"force_earliest_schedule\":false}\n",
      "2025-06-21 18:11:01.772131: I external/local_xla/xla/service/gpu/autotuning/conv_algorithm_picker.cc:549] Omitted potentially buggy algorithm eng14{} for conv %cudnn-conv-bias-activation.42 = (f32[32,128,112,112]{3,2,1,0}, u8[0]{0}) custom-call(f32[32,128,112,112]{3,2,1,0} %bitcast.755, f32[128,128,3,3]{3,2,1,0} %bitcast.762, f32[128]{0} %bitcast.764), window={size=3x3 pad=1_1x1_1}, dim_labels=bf01_oi01->bf01, custom_call_target=\"__cudnn$convBiasActivationForward\", metadata={op_type=\"Conv2D\" op_name=\"functional_1/block2_conv2_1/convolution\" source_file=\"/home/daffin_tw/python-environments/tf219/lib/python3.12/site-packages/tensorflow/python/framework/ops.py\" source_line=1200}, backend_config={\"operation_queue_id\":\"0\",\"wait_on_operation_queues\":[],\"cudnn_conv_backend_config\":{\"conv_result_scale\":1,\"activation_mode\":\"kRelu\",\"side_input_scale\":0,\"leakyrelu_alpha\":0},\"force_earliest_schedule\":false}\n",
      "2025-06-21 18:11:04.843072: W external/local_xla/xla/tsl/framework/bfc_allocator.cc:310] Allocator (GPU_0_bfc) ran out of memory trying to allocate 1.74GiB with freed_by_count=0. The caller indicates that this is not a failure, but this may mean that there could be performance gains if more memory were available.\n",
      "2025-06-21 18:11:04.843209: W external/local_xla/xla/tsl/framework/bfc_allocator.cc:310] Allocator (GPU_0_bfc) ran out of memory trying to allocate 1.74GiB with freed_by_count=0. The caller indicates that this is not a failure, but this may mean that there could be performance gains if more memory were available.\n",
      "2025-06-21 18:11:05.907003: W external/local_xla/xla/tsl/framework/bfc_allocator.cc:310] Allocator (GPU_0_bfc) ran out of memory trying to allocate 2.55GiB with freed_by_count=0. The caller indicates that this is not a failure, but this may mean that there could be performance gains if more memory were available.\n",
      "2025-06-21 18:11:05.913928: I external/local_xla/xla/service/gpu/autotuning/conv_algorithm_picker.cc:549] Omitted potentially buggy algorithm eng14{} for conv %cudnn-conv-bias-activation.43 = (f32[32,256,56,56]{3,2,1,0}, u8[0]{0}) custom-call(f32[32,128,56,56]{3,2,1,0} %bitcast.770, f32[256,128,3,3]{3,2,1,0} %bitcast.777, f32[256]{0} %bitcast.779), window={size=3x3 pad=1_1x1_1}, dim_labels=bf01_oi01->bf01, custom_call_target=\"__cudnn$convBiasActivationForward\", metadata={op_type=\"Conv2D\" op_name=\"functional_1/block3_conv1_1/convolution\" source_file=\"/home/daffin_tw/python-environments/tf219/lib/python3.12/site-packages/tensorflow/python/framework/ops.py\" source_line=1200}, backend_config={\"operation_queue_id\":\"0\",\"wait_on_operation_queues\":[],\"cudnn_conv_backend_config\":{\"conv_result_scale\":1,\"activation_mode\":\"kRelu\",\"side_input_scale\":0,\"leakyrelu_alpha\":0},\"force_earliest_schedule\":false}\n",
      "2025-06-21 18:11:08.854817: I external/local_xla/xla/service/gpu/autotuning/conv_algorithm_picker.cc:549] Omitted potentially buggy algorithm eng14{} for conv %cudnn-conv-bias-activation.44 = (f32[32,256,56,56]{3,2,1,0}, u8[0]{0}) custom-call(f32[32,256,56,56]{3,2,1,0} %bitcast.784, f32[256,256,3,3]{3,2,1,0} %bitcast.791, f32[256]{0} %bitcast.793), window={size=3x3 pad=1_1x1_1}, dim_labels=bf01_oi01->bf01, custom_call_target=\"__cudnn$convBiasActivationForward\", metadata={op_type=\"Conv2D\" op_name=\"functional_1/block3_conv2_1/convolution\" source_file=\"/home/daffin_tw/python-environments/tf219/lib/python3.12/site-packages/tensorflow/python/framework/ops.py\" source_line=1200}, backend_config={\"operation_queue_id\":\"0\",\"wait_on_operation_queues\":[],\"cudnn_conv_backend_config\":{\"conv_result_scale\":1,\"activation_mode\":\"kRelu\",\"side_input_scale\":0,\"leakyrelu_alpha\":0},\"force_earliest_schedule\":false}\n",
      "2025-06-21 18:11:14.255537: W external/local_xla/xla/tsl/framework/bfc_allocator.cc:310] Allocator (GPU_0_bfc) ran out of memory trying to allocate 2.34GiB with freed_by_count=0. The caller indicates that this is not a failure, but this may mean that there could be performance gains if more memory were available.\n",
      "2025-06-21 18:11:14.263516: I external/local_xla/xla/service/gpu/autotuning/conv_algorithm_picker.cc:549] Omitted potentially buggy algorithm eng14{} for conv %cudnn-conv-bias-activation.46 = (f32[32,512,28,28]{3,2,1,0}, u8[0]{0}) custom-call(f32[32,256,28,28]{3,2,1,0} %bitcast.813, f32[512,256,3,3]{3,2,1,0} %bitcast.820, f32[512]{0} %bitcast.822), window={size=3x3 pad=1_1x1_1}, dim_labels=bf01_oi01->bf01, custom_call_target=\"__cudnn$convBiasActivationForward\", metadata={op_type=\"Conv2D\" op_name=\"functional_1/block4_conv1_1/convolution\" source_file=\"/home/daffin_tw/python-environments/tf219/lib/python3.12/site-packages/tensorflow/python/framework/ops.py\" source_line=1200}, backend_config={\"operation_queue_id\":\"0\",\"wait_on_operation_queues\":[],\"cudnn_conv_backend_config\":{\"conv_result_scale\":1,\"activation_mode\":\"kRelu\",\"side_input_scale\":0,\"leakyrelu_alpha\":0},\"force_earliest_schedule\":false}\n",
      "2025-06-21 18:11:14.844106: W external/local_xla/xla/tsl/framework/bfc_allocator.cc:310] Allocator (GPU_0_bfc) ran out of memory trying to allocate 1.15GiB with freed_by_count=0. The caller indicates that this is not a failure, but this may mean that there could be performance gains if more memory were available.\n",
      "2025-06-21 18:11:17.046094: I external/local_xla/xla/service/gpu/autotuning/conv_algorithm_picker.cc:549] Omitted potentially buggy algorithm eng14{} for conv %cudnn-conv-bias-activation.47 = (f32[32,512,28,28]{3,2,1,0}, u8[0]{0}) custom-call(f32[32,512,28,28]{3,2,1,0} %bitcast.827, f32[512,512,3,3]{3,2,1,0} %bitcast.834, f32[512]{0} %bitcast.836), window={size=3x3 pad=1_1x1_1}, dim_labels=bf01_oi01->bf01, custom_call_target=\"__cudnn$convBiasActivationForward\", metadata={op_type=\"Conv2D\" op_name=\"functional_1/block4_conv2_1/convolution\" source_file=\"/home/daffin_tw/python-environments/tf219/lib/python3.12/site-packages/tensorflow/python/framework/ops.py\" source_line=1200}, backend_config={\"operation_queue_id\":\"0\",\"wait_on_operation_queues\":[],\"cudnn_conv_backend_config\":{\"conv_result_scale\":1,\"activation_mode\":\"kRelu\",\"side_input_scale\":0,\"leakyrelu_alpha\":0},\"force_earliest_schedule\":false}\n",
      "2025-06-21 18:11:18.212846: W external/local_xla/xla/tsl/framework/bfc_allocator.cc:310] Allocator (GPU_0_bfc) ran out of memory trying to allocate 2.28GiB with freed_by_count=0. The caller indicates that this is not a failure, but this may mean that there could be performance gains if more memory were available.\n",
      "2025-06-21 18:11:22.373862: I external/local_xla/xla/service/gpu/autotuning/conv_algorithm_picker.cc:549] Omitted potentially buggy algorithm eng14{} for conv %cudnn-conv-bias-activation.49 = (f32[32,512,14,14]{3,2,1,0}, u8[0]{0}) custom-call(f32[32,512,14,14]{3,2,1,0} %bitcast.856, f32[512,512,3,3]{3,2,1,0} %bitcast.863, f32[512]{0} %bitcast.865), window={size=3x3 pad=1_1x1_1}, dim_labels=bf01_oi01->bf01, custom_call_target=\"__cudnn$convBiasActivationForward\", metadata={op_type=\"Conv2D\" op_name=\"functional_1/block5_conv1_1/convolution\" source_file=\"/home/daffin_tw/python-environments/tf219/lib/python3.12/site-packages/tensorflow/python/framework/ops.py\" source_line=1200}, backend_config={\"operation_queue_id\":\"0\",\"wait_on_operation_queues\":[],\"cudnn_conv_backend_config\":{\"conv_result_scale\":1,\"activation_mode\":\"kRelu\",\"side_input_scale\":0,\"leakyrelu_alpha\":0},\"force_earliest_schedule\":false}\n",
      "I0000 00:00:1750504284.617511    5175 device_compiler.h:188] Compiled cluster using XLA!  This line is logged at most once for the lifetime of the process.\n"
     ]
    },
    {
     "name": "stdout",
     "output_type": "stream",
     "text": [
      "\u001b[1m21/22\u001b[0m \u001b[32m━━━━━━━━━━━━━━━━━━━\u001b[0m\u001b[37m━\u001b[0m \u001b[1m0s\u001b[0m 353ms/step - accuracy: 0.9306 - loss: 0.5952"
     ]
    },
    {
     "name": "stderr",
     "output_type": "stream",
     "text": [
      "2025-06-21 18:11:32.409816: I external/local_xla/xla/service/gpu/autotuning/conv_algorithm_picker.cc:549] Omitted potentially buggy algorithm eng14{} for conv %cudnn-conv-bias-activation.39 = (f32[2,64,224,224]{3,2,1,0}, u8[0]{0}) custom-call(f32[2,3,224,224]{3,2,1,0} %bitcast.711, f32[64,3,3,3]{3,2,1,0} %bitcast.718, f32[64]{0} %bitcast.720), window={size=3x3 pad=1_1x1_1}, dim_labels=bf01_oi01->bf01, custom_call_target=\"__cudnn$convBiasActivationForward\", metadata={op_type=\"Conv2D\" op_name=\"functional_1/block1_conv1_1/convolution\" source_file=\"/home/daffin_tw/python-environments/tf219/lib/python3.12/site-packages/tensorflow/python/framework/ops.py\" source_line=1200}, backend_config={\"operation_queue_id\":\"0\",\"wait_on_operation_queues\":[],\"cudnn_conv_backend_config\":{\"conv_result_scale\":1,\"activation_mode\":\"kRelu\",\"side_input_scale\":0,\"leakyrelu_alpha\":0},\"force_earliest_schedule\":false}\n",
      "2025-06-21 18:11:32.913524: I external/local_xla/xla/service/gpu/autotuning/conv_algorithm_picker.cc:549] Omitted potentially buggy algorithm eng14{} for conv %cudnn-conv-bias-activation.40 = (f32[2,64,224,224]{3,2,1,0}, u8[0]{0}) custom-call(f32[2,64,224,224]{3,2,1,0} %bitcast.725, f32[64,64,3,3]{3,2,1,0} %bitcast.732, f32[64]{0} %bitcast.734), window={size=3x3 pad=1_1x1_1}, dim_labels=bf01_oi01->bf01, custom_call_target=\"__cudnn$convBiasActivationForward\", metadata={op_type=\"Conv2D\" op_name=\"functional_1/block1_conv2_1/convolution\" source_file=\"/home/daffin_tw/python-environments/tf219/lib/python3.12/site-packages/tensorflow/python/framework/ops.py\" source_line=1200}, backend_config={\"operation_queue_id\":\"0\",\"wait_on_operation_queues\":[],\"cudnn_conv_backend_config\":{\"conv_result_scale\":1,\"activation_mode\":\"kRelu\",\"side_input_scale\":0,\"leakyrelu_alpha\":0},\"force_earliest_schedule\":false}\n",
      "2025-06-21 18:11:33.180758: I external/local_xla/xla/service/gpu/autotuning/conv_algorithm_picker.cc:549] Omitted potentially buggy algorithm eng14{} for conv %cudnn-conv-bias-activation.41 = (f32[2,128,112,112]{3,2,1,0}, u8[0]{0}) custom-call(f32[2,64,112,112]{3,2,1,0} %bitcast.741, f32[128,64,3,3]{3,2,1,0} %bitcast.748, f32[128]{0} %bitcast.750), window={size=3x3 pad=1_1x1_1}, dim_labels=bf01_oi01->bf01, custom_call_target=\"__cudnn$convBiasActivationForward\", metadata={op_type=\"Conv2D\" op_name=\"functional_1/block2_conv1_1/convolution\" source_file=\"/home/daffin_tw/python-environments/tf219/lib/python3.12/site-packages/tensorflow/python/framework/ops.py\" source_line=1200}, backend_config={\"operation_queue_id\":\"0\",\"wait_on_operation_queues\":[],\"cudnn_conv_backend_config\":{\"conv_result_scale\":1,\"activation_mode\":\"kRelu\",\"side_input_scale\":0,\"leakyrelu_alpha\":0},\"force_earliest_schedule\":false}\n",
      "2025-06-21 18:11:33.593091: I external/local_xla/xla/service/gpu/autotuning/conv_algorithm_picker.cc:549] Omitted potentially buggy algorithm eng14{} for conv %cudnn-conv-bias-activation.42 = (f32[2,128,112,112]{3,2,1,0}, u8[0]{0}) custom-call(f32[2,128,112,112]{3,2,1,0} %bitcast.755, f32[128,128,3,3]{3,2,1,0} %bitcast.762, f32[128]{0} %bitcast.764), window={size=3x3 pad=1_1x1_1}, dim_labels=bf01_oi01->bf01, custom_call_target=\"__cudnn$convBiasActivationForward\", metadata={op_type=\"Conv2D\" op_name=\"functional_1/block2_conv2_1/convolution\" source_file=\"/home/daffin_tw/python-environments/tf219/lib/python3.12/site-packages/tensorflow/python/framework/ops.py\" source_line=1200}, backend_config={\"operation_queue_id\":\"0\",\"wait_on_operation_queues\":[],\"cudnn_conv_backend_config\":{\"conv_result_scale\":1,\"activation_mode\":\"kRelu\",\"side_input_scale\":0,\"leakyrelu_alpha\":0},\"force_earliest_schedule\":false}\n",
      "2025-06-21 18:11:33.815970: I external/local_xla/xla/service/gpu/autotuning/conv_algorithm_picker.cc:549] Omitted potentially buggy algorithm eng14{} for conv %cudnn-conv-bias-activation.43 = (f32[2,256,56,56]{3,2,1,0}, u8[0]{0}) custom-call(f32[2,128,56,56]{3,2,1,0} %bitcast.770, f32[256,128,3,3]{3,2,1,0} %bitcast.777, f32[256]{0} %bitcast.779), window={size=3x3 pad=1_1x1_1}, dim_labels=bf01_oi01->bf01, custom_call_target=\"__cudnn$convBiasActivationForward\", metadata={op_type=\"Conv2D\" op_name=\"functional_1/block3_conv1_1/convolution\" source_file=\"/home/daffin_tw/python-environments/tf219/lib/python3.12/site-packages/tensorflow/python/framework/ops.py\" source_line=1200}, backend_config={\"operation_queue_id\":\"0\",\"wait_on_operation_queues\":[],\"cudnn_conv_backend_config\":{\"conv_result_scale\":1,\"activation_mode\":\"kRelu\",\"side_input_scale\":0,\"leakyrelu_alpha\":0},\"force_earliest_schedule\":false}\n",
      "2025-06-21 18:11:34.183728: I external/local_xla/xla/service/gpu/autotuning/conv_algorithm_picker.cc:549] Omitted potentially buggy algorithm eng14{} for conv %cudnn-conv-bias-activation.44 = (f32[2,256,56,56]{3,2,1,0}, u8[0]{0}) custom-call(f32[2,256,56,56]{3,2,1,0} %bitcast.784, f32[256,256,3,3]{3,2,1,0} %bitcast.791, f32[256]{0} %bitcast.793), window={size=3x3 pad=1_1x1_1}, dim_labels=bf01_oi01->bf01, custom_call_target=\"__cudnn$convBiasActivationForward\", metadata={op_type=\"Conv2D\" op_name=\"functional_1/block3_conv2_1/convolution\" source_file=\"/home/daffin_tw/python-environments/tf219/lib/python3.12/site-packages/tensorflow/python/framework/ops.py\" source_line=1200}, backend_config={\"operation_queue_id\":\"0\",\"wait_on_operation_queues\":[],\"cudnn_conv_backend_config\":{\"conv_result_scale\":1,\"activation_mode\":\"kRelu\",\"side_input_scale\":0,\"leakyrelu_alpha\":0},\"force_earliest_schedule\":false}\n",
      "2025-06-21 18:11:34.394901: I external/local_xla/xla/service/gpu/autotuning/conv_algorithm_picker.cc:549] Omitted potentially buggy algorithm eng14{} for conv %cudnn-conv-bias-activation.46 = (f32[2,512,28,28]{3,2,1,0}, u8[0]{0}) custom-call(f32[2,256,28,28]{3,2,1,0} %bitcast.813, f32[512,256,3,3]{3,2,1,0} %bitcast.820, f32[512]{0} %bitcast.822), window={size=3x3 pad=1_1x1_1}, dim_labels=bf01_oi01->bf01, custom_call_target=\"__cudnn$convBiasActivationForward\", metadata={op_type=\"Conv2D\" op_name=\"functional_1/block4_conv1_1/convolution\" source_file=\"/home/daffin_tw/python-environments/tf219/lib/python3.12/site-packages/tensorflow/python/framework/ops.py\" source_line=1200}, backend_config={\"operation_queue_id\":\"0\",\"wait_on_operation_queues\":[],\"cudnn_conv_backend_config\":{\"conv_result_scale\":1,\"activation_mode\":\"kRelu\",\"side_input_scale\":0,\"leakyrelu_alpha\":0},\"force_earliest_schedule\":false}\n",
      "2025-06-21 18:11:34.765510: I external/local_xla/xla/service/gpu/autotuning/conv_algorithm_picker.cc:549] Omitted potentially buggy algorithm eng14{} for conv %cudnn-conv-bias-activation.47 = (f32[2,512,28,28]{3,2,1,0}, u8[0]{0}) custom-call(f32[2,512,28,28]{3,2,1,0} %bitcast.827, f32[512,512,3,3]{3,2,1,0} %bitcast.834, f32[512]{0} %bitcast.836), window={size=3x3 pad=1_1x1_1}, dim_labels=bf01_oi01->bf01, custom_call_target=\"__cudnn$convBiasActivationForward\", metadata={op_type=\"Conv2D\" op_name=\"functional_1/block4_conv2_1/convolution\" source_file=\"/home/daffin_tw/python-environments/tf219/lib/python3.12/site-packages/tensorflow/python/framework/ops.py\" source_line=1200}, backend_config={\"operation_queue_id\":\"0\",\"wait_on_operation_queues\":[],\"cudnn_conv_backend_config\":{\"conv_result_scale\":1,\"activation_mode\":\"kRelu\",\"side_input_scale\":0,\"leakyrelu_alpha\":0},\"force_earliest_schedule\":false}\n",
      "2025-06-21 18:11:35.174367: I external/local_xla/xla/service/gpu/autotuning/conv_algorithm_picker.cc:549] Omitted potentially buggy algorithm eng14{} for conv %cudnn-conv-bias-activation.49 = (f32[2,512,14,14]{3,2,1,0}, u8[0]{0}) custom-call(f32[2,512,14,14]{3,2,1,0} %bitcast.856, f32[512,512,3,3]{3,2,1,0} %bitcast.863, f32[512]{0} %bitcast.865), window={size=3x3 pad=1_1x1_1}, dim_labels=bf01_oi01->bf01, custom_call_target=\"__cudnn$convBiasActivationForward\", metadata={op_type=\"Conv2D\" op_name=\"functional_1/block5_conv1_1/convolution\" source_file=\"/home/daffin_tw/python-environments/tf219/lib/python3.12/site-packages/tensorflow/python/framework/ops.py\" source_line=1200}, backend_config={\"operation_queue_id\":\"0\",\"wait_on_operation_queues\":[],\"cudnn_conv_backend_config\":{\"conv_result_scale\":1,\"activation_mode\":\"kRelu\",\"side_input_scale\":0,\"leakyrelu_alpha\":0},\"force_earliest_schedule\":false}\n"
     ]
    },
    {
     "name": "stdout",
     "output_type": "stream",
     "text": [
      "\u001b[1m22/22\u001b[0m \u001b[32m━━━━━━━━━━━━━━━━━━━━\u001b[0m\u001b[37m\u001b[0m \u001b[1m49s\u001b[0m 523ms/step - accuracy: 0.9229 - loss: 0.5964\n",
      "Validation Loss: 0.6084\n",
      "Validation Accuracy: 0.8427\n"
     ]
    }
   ],
   "source": [
    "from tensorflow.keras.models import load_model\n",
    "\n",
    "model = load_model('best_vgg16_vsd_model.h5')\n",
    "val_datagen = ImageDataGenerator(rescale=1./255)\n",
    "\n",
    "val_generator = val_datagen.flow_from_directory(\n",
    "    ws_path + '/preproDataset', \n",
    "    target_size=(224, 224),\n",
    "    batch_size=32,\n",
    "    class_mode='binary',\n",
    "    shuffle=False\n",
    ")\n",
    "# Evaluasi akurasi dan loss\n",
    "loss, accuracy = model.evaluate(val_generator)\n",
    "print(f\"Validation Loss: {loss:.4f}\")\n",
    "print(f\"Validation Accuracy: {accuracy:.4f}\")"
   ]
  },
  {
   "cell_type": "code",
   "execution_count": 4,
   "id": "db7c74a2",
   "metadata": {},
   "outputs": [
    {
     "name": "stdout",
     "output_type": "stream",
     "text": [
      "\u001b[1m22/22\u001b[0m \u001b[32m━━━━━━━━━━━━━━━━━━━━\u001b[0m\u001b[37m\u001b[0m \u001b[1m9s\u001b[0m 370ms/step\n",
      "              precision    recall  f1-score   support\n",
      "\n",
      "      normal       0.78      0.96      0.86       337\n",
      "         vsd       0.95      0.72      0.82       337\n",
      "\n",
      "    accuracy                           0.84       674\n",
      "   macro avg       0.86      0.84      0.84       674\n",
      "weighted avg       0.86      0.84      0.84       674\n",
      "\n"
     ]
    },
    {
     "data": {
      "image/png": "[encoded data removed]",
      "text/plain": [
       "<Figure size 600x500 with 2 Axes>"
      ]
     },
     "metadata": {},
     "output_type": "display_data"
    }
   ],
   "source": [
    "import numpy as np\n",
    "from sklearn.metrics import classification_report, confusion_matrix\n",
    "import seaborn as sns\n",
    "import matplotlib.pyplot as plt\n",
    "\n",
    "# Prediksi\n",
    "preds = model.predict(val_generator)\n",
    "predicted_classes = (preds > 0.5).astype(int).flatten()\n",
    "\n",
    "# Label asli\n",
    "true_classes = val_generator.classes\n",
    "class_names = list(val_generator.class_indices.keys())\n",
    "\n",
    "# Report\n",
    "print(classification_report(true_classes, predicted_classes, target_names=class_names))\n",
    "\n",
    "# Confusion matrix\n",
    "cm = confusion_matrix(true_classes, predicted_classes)\n",
    "plt.figure(figsize=(6,5))\n",
    "sns.heatmap(cm, annot=True, fmt='d', cmap='Blues',\n",
    "            xticklabels=class_names,\n",
    "            yticklabels=class_names)\n",
    "plt.xlabel(\"Predicted\")\n",
    "plt.ylabel(\"Actual\")\n",
    "plt.title(\"Confusion Matrix\")\n",
    "plt.show()\n"
   ]
  },
  {
   "cell_type": "code",
   "execution_count": 35,
   "id": "52057de9",
   "metadata": {},
   "outputs": [
    {
     "data": {
      "text/plain": [
       "0.1394658753709199"
      ]
     },
     "execution_count": 35,
     "metadata": {},
     "output_type": "execute_result"
    }
   ],
   "source": [
    "325 / (325+94+12+243) # P(AN)\n",
    "94 / (325+94+12+243) # P(PN)"
   ]
  },
  {
   "cell_type": "code",
   "execution_count": null,
   "id": "bc79a9d6",
   "metadata": {},
   "outputs": [
    {
     "data": {
      "text/plain": [
       "0.7756563245823389"
      ]
     },
     "execution_count": 32,
     "metadata": {},
     "output_type": "execute_result"
    }
   ],
   "source": [
    "# Prediksi Normal pelluang Asli Normal\n",
    "325/(325+94) # P(AN | PN)"
   ]
  },
  {
   "cell_type": "code",
   "execution_count": null,
   "id": "3b75fff9",
   "metadata": {},
   "outputs": [
    {
     "data": {
      "text/plain": [
       "0.9643916913946587"
      ]
     },
     "execution_count": 30,
     "metadata": {},
     "output_type": "execute_result"
    }
   ],
   "source": [
    "# Asli Normal pelluang Prediksi Normal\n",
    "325/(12+325) # P(PN | AN)"
   ]
  },
  {
   "cell_type": "code",
   "execution_count": null,
   "id": "11bd9cc1",
   "metadata": {},
   "outputs": [
    {
     "data": {
      "text/plain": [
       "0.9529411764705882"
      ]
     },
     "execution_count": 28,
     "metadata": {},
     "output_type": "execute_result"
    }
   ],
   "source": [
    "# Prediksine VSD Peluang asli VSD\n",
    "243/(12+243) # P(AV | PV)"
   ]
  },
  {
   "cell_type": "code",
   "execution_count": null,
   "id": "6096d38a",
   "metadata": {},
   "outputs": [
    {
     "data": {
      "text/plain": [
       "0.7210682492581603"
      ]
     },
     "execution_count": 25,
     "metadata": {},
     "output_type": "execute_result"
    }
   ],
   "source": [
    "# Asli VSD pelluang Prediksi VSD\n",
    "243/(94+243) # P(PV | AV)"
   ]
  },
  {
   "cell_type": "code",
   "execution_count": 22,
   "id": "4b72dcd7",
   "metadata": {},
   "outputs": [
    {
     "data": {
      "text/plain": [
       "0.9643916913946587"
      ]
     },
     "execution_count": 22,
     "metadata": {},
     "output_type": "execute_result"
    }
   ],
   "source": [
    "325/(325+12)"
   ]
  },
  {
   "cell_type": "code",
   "execution_count": 19,
   "id": "7f5c054e",
   "metadata": {},
   "outputs": [
    {
     "data": {
      "text/plain": [
       "0.047058823529411764"
      ]
     },
     "execution_count": 19,
     "metadata": {},
     "output_type": "execute_result"
    }
   ],
   "source": [
    "12/(12+243)"
   ]
  },
  {
   "cell_type": "code",
   "execution_count": 20,
   "id": "097f191e",
   "metadata": {},
   "outputs": [
    {
     "data": {
      "text/plain": [
       "0.7210682492581603"
      ]
     },
     "execution_count": 20,
     "metadata": {},
     "output_type": "execute_result"
    }
   ],
   "source": [
    "243/(94+243)"
   ]
  },
  {
   "cell_type": "code",
   "execution_count": 17,
   "id": "126a3267",
   "metadata": {},
   "outputs": [
    {
     "data": {
      "text/plain": [
       "0.2789317507418398"
      ]
     },
     "execution_count": 17,
     "metadata": {},
     "output_type": "execute_result"
    }
   ],
   "source": [
    "94/(94+243)"
   ]
  },
  {
   "cell_type": "code",
   "execution_count": 11,
   "id": "e6de10df",
   "metadata": {},
   "outputs": [
    {
     "data": {
      "text/plain": [
       "0.047058823529411764"
      ]
     },
     "execution_count": 11,
     "metadata": {},
     "output_type": "execute_result"
    }
   ],
   "source": [
    "12/(12+243)"
   ]
  },
  {
   "cell_type": "code",
   "execution_count": 13,
   "id": "f72b48b3",
   "metadata": {},
   "outputs": [
    {
     "data": {
      "text/plain": [
       "0.2243436754176611"
      ]
     },
     "execution_count": 13,
     "metadata": {},
     "output_type": "execute_result"
    }
   ],
   "source": [
    "94/(94+325)"
   ]
  }
 ],
 "metadata": {
  "kernelspec": {
   "display_name": "tf219",
   "language": "python",
   "name": "python3"
  },
  "language_info": {
   "codemirror_mode": {
    "name": "ipython",
    "version": 3
   },
   "file_extension": ".py",
   "mimetype": "text/x-python",
   "name": "python",
   "nbconvert_exporter": "python",
   "pygments_lexer": "ipython3",
   "version": "3.12.3"
  }
 },
 "nbformat": 4,
 "nbformat_minor": 5
}
