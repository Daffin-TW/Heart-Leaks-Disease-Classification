{
 "cells": [
  {
   "cell_type": "code",
   "execution_count": 28,
   "id": "ae7727d7",
   "metadata": {},
   "outputs": [
    {
     "data": {
      "text/plain": [
       "'e:\\\\Kuliah\\\\MBKM\\\\CV Advance With Unity\\\\Tugas\\\\Heart-Leaks-Disease-Classification'"
      ]
     },
     "execution_count": 28,
     "metadata": {},
     "output_type": "execute_result"
    }
   ],
   "source": [
    "import os\n",
    "\n",
    "folder_path = os.getcwd()\n",
    "ws_path = os.path.dirname(folder_path)\n",
    "ws_path"
   ]
  },
  {
   "cell_type": "code",
   "execution_count": 29,
   "id": "4119129c",
   "metadata": {},
   "outputs": [],
   "source": [
    "list_dir = os.listdir(ws_path)\n",
    "video_path = ws_path + '/rawDataset'\n",
    "frame_path = ws_path + '/rawFrame'\n",
    "nor_path = video_path + '/Normal'\n",
    "vsd_path = video_path + '/VSD'\n",
    "nor_fr_path = frame_path + '/normal'\n",
    "vsd_fr_path = frame_path + '/vsd'"
   ]
  },
  {
   "cell_type": "code",
   "execution_count": 34,
   "id": "54861db9",
   "metadata": {},
   "outputs": [],
   "source": [
    "# Create output directory\n",
    "os.makedirs(frame_path, exist_ok=True)\n",
    "os.makedirs(nor_fr_path, exist_ok=True)\n",
    "os.makedirs(vsd_fr_path, exist_ok=True)"
   ]
  },
  {
   "cell_type": "code",
   "execution_count": 30,
   "id": "99cebaf8",
   "metadata": {},
   "outputs": [],
   "source": [
    "pas_folders = os.listdir(nor_path)\n",
    "nor_files_paths = list()\n",
    "\n",
    "for pas in pas_folders:\n",
    "    path = nor_path + f'/{pas}'\n",
    "    files = os.listdir(path)\n",
    "\n",
    "    file_paths = [path + f'/{i}' for i in files]\n",
    "    nor_files_paths += file_paths"
   ]
  },
  {
   "cell_type": "code",
   "execution_count": 31,
   "id": "1745e079",
   "metadata": {},
   "outputs": [],
   "source": [
    "pos_folders = os.listdir(vsd_path)\n",
    "vsd_files_paths = list()\n",
    "\n",
    "for pos in pos_folders:\n",
    "    path = vsd_path + f'/{pos}'\n",
    "    files = os.listdir(path)\n",
    "\n",
    "    file_paths = [path + f'/{i}' for i in files]\n",
    "    vsd_files_paths += file_paths"
   ]
  },
  {
   "cell_type": "code",
   "execution_count": 35,
   "id": "e9c61ab1",
   "metadata": {},
   "outputs": [],
   "source": [
    "from ffmpeg import FFmpeg\n",
    "\n",
    "def extract_frames(video_paths, output_path):\n",
    "    for path in video_paths:\n",
    "        file_name = os.path.splitext(os.path.basename(path))[0]\n",
    "\n",
    "        ffmpeg = (\n",
    "            FFmpeg()\n",
    "            .option('y')\n",
    "            .input(path)\n",
    "            .output(f'{output_path}/{file_name}_fr%04d.png', r=5)\n",
    "        )\n",
    "\n",
    "        ffmpeg.execute()\n",
    "\n",
    "extract_frames(nor_files_paths, nor_fr_path)\n",
    "extract_frames(vsd_files_paths, vsd_fr_path)"
   ]
  }
 ],
 "metadata": {
  "kernelspec": {
   "display_name": "venv",
   "language": "python",
   "name": "python3"
  },
  "language_info": {
   "codemirror_mode": {
    "name": "ipython",
    "version": 3
   },
   "file_extension": ".py",
   "mimetype": "text/x-python",
   "name": "python",
   "nbconvert_exporter": "python",
   "pygments_lexer": "ipython3",
   "version": "3.12.7"
  }
 },
 "nbformat": 4,
 "nbformat_minor": 5
}
