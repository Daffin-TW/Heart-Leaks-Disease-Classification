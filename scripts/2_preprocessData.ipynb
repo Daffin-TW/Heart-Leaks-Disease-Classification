{
 "cells": [
  {
   "cell_type": "code",
   "execution_count": 11,
   "id": "e728ff60",
   "metadata": {},
   "outputs": [],
   "source": [
    "import os\n",
    "import tensorflow as tf\n",
    "from PIL import Image\n",
    "import PIL\n",
    "import numpy as np"
   ]
  },
  {
   "cell_type": "code",
   "execution_count": 12,
   "id": "a9887c2f",
   "metadata": {},
   "outputs": [
    {
     "data": {
      "text/plain": [
       "'e:\\\\Kuliah\\\\MBKM\\\\CV Advance With Unity\\\\Tugas\\\\Heart-Leaks-Disease-Classification'"
      ]
     },
     "execution_count": 12,
     "metadata": {},
     "output_type": "execute_result"
    }
   ],
   "source": [
    "folder_path = os.getcwd()\n",
    "ws_path = os.path.dirname(folder_path)\n",
    "ws_path"
   ]
  },
  {
   "cell_type": "code",
   "execution_count": 13,
   "id": "0005b3f6",
   "metadata": {},
   "outputs": [],
   "source": [
    "list_dir = os.listdir(ws_path)\n",
    "frame_path = ws_path + '/rawFrame'\n",
    "prepro_data_path = ws_path + '/preproDataset'\n",
    "nor_fr_path = frame_path + '/normal'\n",
    "vsd_fr_path = frame_path + '/vsd'\n",
    "nor_prepro_path = prepro_data_path + '/normal'\n",
    "vsd_prepro_path = prepro_data_path + '/vsd'"
   ]
  },
  {
   "cell_type": "code",
   "execution_count": 14,
   "id": "6c8563d5",
   "metadata": {},
   "outputs": [],
   "source": [
    "# Create output directory\n",
    "os.makedirs(prepro_data_path, exist_ok=True)\n",
    "os.makedirs(nor_prepro_path, exist_ok=True)\n",
    "os.makedirs(vsd_prepro_path, exist_ok=True)"
   ]
  },
  {
   "cell_type": "code",
   "execution_count": 15,
   "id": "973da7df",
   "metadata": {},
   "outputs": [],
   "source": [
    "nor_img = os.listdir(nor_fr_path)\n",
    "nor_fr_list_path = list()\n",
    "\n",
    "for img in nor_img:\n",
    "    path = nor_fr_path + f'/{img}'\n",
    "    nor_fr_list_path.append(path)\n",
    "\n",
    "# nor_fr_list_path"
   ]
  },
  {
   "cell_type": "code",
   "execution_count": 16,
   "id": "3b112dc0",
   "metadata": {},
   "outputs": [],
   "source": [
    "vsd_img = os.listdir(vsd_fr_path)\n",
    "vsd_fr_list_path = list()\n",
    "\n",
    "for img in vsd_img:\n",
    "    path = vsd_fr_path + f'/{img}'\n",
    "    vsd_fr_list_path.append(path)\n",
    "\n",
    "# vsd_fr_list_path"
   ]
  },
  {
   "cell_type": "code",
   "execution_count": 17,
   "id": "a335fc40",
   "metadata": {},
   "outputs": [],
   "source": [
    "import pandas as pd\n",
    "\n",
    "\n",
    "df = pd.DataFrame({'path': nor_fr_list_path, 'label': 0})\n",
    "df = pd.concat([df, pd.DataFrame({'path': vsd_fr_list_path, 'label': 1})])\n",
    "X = df[['path']]\n",
    "y = df['label']"
   ]
  },
  {
   "cell_type": "code",
   "execution_count": 18,
   "id": "e522a787",
   "metadata": {},
   "outputs": [
    {
     "data": {
      "text/html": [
       "<div>\n",
       "<style scoped>\n",
       "    .dataframe tbody tr th:only-of-type {\n",
       "        vertical-align: middle;\n",
       "    }\n",
       "\n",
       "    .dataframe tbody tr th {\n",
       "        vertical-align: top;\n",
       "    }\n",
       "\n",
       "    .dataframe thead th {\n",
       "        text-align: right;\n",
       "    }\n",
       "</style>\n",
       "<table border=\"1\" class=\"dataframe\">\n",
       "  <thead>\n",
       "    <tr style=\"text-align: right;\">\n",
       "      <th></th>\n",
       "      <th>path</th>\n",
       "      <th>label</th>\n",
       "    </tr>\n",
       "  </thead>\n",
       "  <tbody>\n",
       "    <tr>\n",
       "      <th>0</th>\n",
       "      <td>e:\\Kuliah\\MBKM\\CV Advance With Unity\\Tugas\\Hea...</td>\n",
       "      <td>0</td>\n",
       "    </tr>\n",
       "    <tr>\n",
       "      <th>1</th>\n",
       "      <td>e:\\Kuliah\\MBKM\\CV Advance With Unity\\Tugas\\Hea...</td>\n",
       "      <td>0</td>\n",
       "    </tr>\n",
       "    <tr>\n",
       "      <th>2</th>\n",
       "      <td>e:\\Kuliah\\MBKM\\CV Advance With Unity\\Tugas\\Hea...</td>\n",
       "      <td>0</td>\n",
       "    </tr>\n",
       "    <tr>\n",
       "      <th>3</th>\n",
       "      <td>e:\\Kuliah\\MBKM\\CV Advance With Unity\\Tugas\\Hea...</td>\n",
       "      <td>0</td>\n",
       "    </tr>\n",
       "    <tr>\n",
       "      <th>4</th>\n",
       "      <td>e:\\Kuliah\\MBKM\\CV Advance With Unity\\Tugas\\Hea...</td>\n",
       "      <td>0</td>\n",
       "    </tr>\n",
       "    <tr>\n",
       "      <th>...</th>\n",
       "      <td>...</td>\n",
       "      <td>...</td>\n",
       "    </tr>\n",
       "    <tr>\n",
       "      <th>2178</th>\n",
       "      <td>e:\\Kuliah\\MBKM\\CV Advance With Unity\\Tugas\\Hea...</td>\n",
       "      <td>1</td>\n",
       "    </tr>\n",
       "    <tr>\n",
       "      <th>2179</th>\n",
       "      <td>e:\\Kuliah\\MBKM\\CV Advance With Unity\\Tugas\\Hea...</td>\n",
       "      <td>1</td>\n",
       "    </tr>\n",
       "    <tr>\n",
       "      <th>2180</th>\n",
       "      <td>e:\\Kuliah\\MBKM\\CV Advance With Unity\\Tugas\\Hea...</td>\n",
       "      <td>1</td>\n",
       "    </tr>\n",
       "    <tr>\n",
       "      <th>2181</th>\n",
       "      <td>e:\\Kuliah\\MBKM\\CV Advance With Unity\\Tugas\\Hea...</td>\n",
       "      <td>1</td>\n",
       "    </tr>\n",
       "    <tr>\n",
       "      <th>2182</th>\n",
       "      <td>e:\\Kuliah\\MBKM\\CV Advance With Unity\\Tugas\\Hea...</td>\n",
       "      <td>1</td>\n",
       "    </tr>\n",
       "  </tbody>\n",
       "</table>\n",
       "<p>2520 rows × 2 columns</p>\n",
       "</div>"
      ],
      "text/plain": [
       "                                                   path  label\n",
       "0     e:\\Kuliah\\MBKM\\CV Advance With Unity\\Tugas\\Hea...      0\n",
       "1     e:\\Kuliah\\MBKM\\CV Advance With Unity\\Tugas\\Hea...      0\n",
       "2     e:\\Kuliah\\MBKM\\CV Advance With Unity\\Tugas\\Hea...      0\n",
       "3     e:\\Kuliah\\MBKM\\CV Advance With Unity\\Tugas\\Hea...      0\n",
       "4     e:\\Kuliah\\MBKM\\CV Advance With Unity\\Tugas\\Hea...      0\n",
       "...                                                 ...    ...\n",
       "2178  e:\\Kuliah\\MBKM\\CV Advance With Unity\\Tugas\\Hea...      1\n",
       "2179  e:\\Kuliah\\MBKM\\CV Advance With Unity\\Tugas\\Hea...      1\n",
       "2180  e:\\Kuliah\\MBKM\\CV Advance With Unity\\Tugas\\Hea...      1\n",
       "2181  e:\\Kuliah\\MBKM\\CV Advance With Unity\\Tugas\\Hea...      1\n",
       "2182  e:\\Kuliah\\MBKM\\CV Advance With Unity\\Tugas\\Hea...      1\n",
       "\n",
       "[2520 rows x 2 columns]"
      ]
     },
     "execution_count": 18,
     "metadata": {},
     "output_type": "execute_result"
    }
   ],
   "source": [
    "df"
   ]
  },
  {
   "cell_type": "code",
   "execution_count": 56,
   "id": "b4d686cd",
   "metadata": {},
   "outputs": [
    {
     "data": {
      "text/plain": [
       "label\n",
       "0    337\n",
       "1    337\n",
       "Name: count, dtype: int64"
      ]
     },
     "execution_count": 56,
     "metadata": {},
     "output_type": "execute_result"
    }
   ],
   "source": [
    "from imblearn.under_sampling import RandomUnderSampler\n",
    "rus = RandomUnderSampler()\n",
    "x_res, y_res = rus.fit_resample(X, y)\n",
    "y_res.value_counts()"
   ]
  },
  {
   "cell_type": "code",
   "execution_count": 57,
   "id": "a4ca301c",
   "metadata": {},
   "outputs": [],
   "source": [
    "df_res = x_res.copy()\n",
    "df_res['label'] = y_res\n",
    "normal_paths = df_res[df_res['label'] == 0]['path'].to_list()\n",
    "vsd_paths = df_res[df_res['label'] == 1]['path'].to_list()"
   ]
  },
  {
   "cell_type": "code",
   "execution_count": 58,
   "id": "1097d3f8",
   "metadata": {},
   "outputs": [],
   "source": [
    "def preprocess(input_path, output_path, img_size=(224, 224)):\n",
    "    for path in input_path:\n",
    "        img = tf.keras.preprocessing.image.load_img(path, target_size=img_size)\n",
    "        img_array = tf.keras.preprocessing.image.img_to_array(img)\n",
    "\n",
    "        img_array = img_array / 255.0\n",
    "        img_uint8 = tf.image.convert_image_dtype(img_array, dtype=tf.uint8)\n",
    "\n",
    "        filename = os.path.basename(path)\n",
    "        filename = os.path.splitext(filename)[0] + '.png'\n",
    "\n",
    "        output_file = os.path.join(output_path, filename)\n",
    "\n",
    "        tf.keras.utils.save_img(output_file, img_uint8)\n"
   ]
  },
  {
   "cell_type": "code",
   "execution_count": 59,
   "id": "bde17000",
   "metadata": {},
   "outputs": [],
   "source": [
    "preprocess(normal_paths, nor_prepro_path)\n",
    "preprocess(vsd_paths, vsd_prepro_path)"
   ]
  }
 ],
 "metadata": {
  "kernelspec": {
   "display_name": "venv",
   "language": "python",
   "name": "python3"
  },
  "language_info": {
   "codemirror_mode": {
    "name": "ipython",
    "version": 3
   },
   "file_extension": ".py",
   "mimetype": "text/x-python",
   "name": "python",
   "nbconvert_exporter": "python",
   "pygments_lexer": "ipython3",
   "version": "3.12.7"
  }
 },
 "nbformat": 4,
 "nbformat_minor": 5
}
