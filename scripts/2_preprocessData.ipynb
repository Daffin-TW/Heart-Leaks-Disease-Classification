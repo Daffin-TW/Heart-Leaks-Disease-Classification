{
 "cells": [
  {
   "cell_type": "code",
   "execution_count": 49,
   "id": "e728ff60",
   "metadata": {},
   "outputs": [],
   "source": [
    "import os\n",
    "import tensorflow as tf\n",
    "from PIL import Image\n",
    "import PIL\n",
    "import numpy as np"
   ]
  },
  {
   "cell_type": "code",
   "execution_count": 50,
   "id": "a9887c2f",
   "metadata": {},
   "outputs": [
    {
     "data": {
      "text/plain": [
       "'e:\\\\Kuliah\\\\MBKM\\\\CV Advance With Unity\\\\Tugas\\\\Heart-Leaks-Disease-Classification'"
      ]
     },
     "execution_count": 50,
     "metadata": {},
     "output_type": "execute_result"
    }
   ],
   "source": [
    "folder_path = os.getcwd()\n",
    "ws_path = os.path.dirname(folder_path)\n",
    "ws_path"
   ]
  },
  {
   "cell_type": "code",
   "execution_count": 51,
   "id": "0005b3f6",
   "metadata": {},
   "outputs": [],
   "source": [
    "list_dir = os.listdir(ws_path)\n",
    "frame_path = ws_path + '/rawFrame'\n",
    "prepro_data_path = ws_path + '/preproDataset'\n",
    "nor_fr_path = frame_path + '/normal'\n",
    "vsd_fr_path = frame_path + '/vsd'\n",
    "nor_prepro_path = prepro_data_path + '/normal'\n",
    "vsd_prepro_path = prepro_data_path + '/vsd'"
   ]
  },
  {
   "cell_type": "code",
   "execution_count": 52,
   "id": "6c8563d5",
   "metadata": {},
   "outputs": [],
   "source": [
    "# Create output directory\n",
    "os.makedirs(prepro_data_path, exist_ok=True)\n",
    "os.makedirs(nor_prepro_path, exist_ok=True)\n",
    "os.makedirs(vsd_prepro_path, exist_ok=True)"
   ]
  },
  {
   "cell_type": "code",
   "execution_count": 53,
   "id": "973da7df",
   "metadata": {},
   "outputs": [],
   "source": [
    "nor_img = os.listdir(nor_fr_path)\n",
    "nor_fr_list_path = list()\n",
    "\n",
    "for img in nor_img:\n",
    "    path = nor_fr_path + f'/{img}'\n",
    "    nor_fr_list_path.append(path)\n",
    "\n",
    "# nor_fr_list_path"
   ]
  },
  {
   "cell_type": "code",
   "execution_count": 54,
   "id": "3b112dc0",
   "metadata": {},
   "outputs": [],
   "source": [
    "vsd_img = os.listdir(vsd_fr_path)\n",
    "vsd_fr_list_path = list()\n",
    "\n",
    "for img in vsd_img:\n",
    "    path = vsd_fr_path + f'/{img}'\n",
    "    vsd_fr_list_path.append(path)\n",
    "\n",
    "# vsd_fr_list_path"
   ]
  },
  {
   "cell_type": "code",
   "execution_count": 55,
   "id": "a335fc40",
   "metadata": {},
   "outputs": [],
   "source": [
    "import pandas as pd\n",
    "\n",
    "\n",
    "df = pd.DataFrame({'path': nor_fr_list_path, 'label': 0})\n",
    "df = pd.concat([df, pd.DataFrame({'path': vsd_fr_list_path, 'label': 1})])\n",
    "X = df[['path']]\n",
    "y = df['label']"
   ]
  },
  {
   "cell_type": "code",
   "execution_count": 56,
   "id": "b4d686cd",
   "metadata": {},
   "outputs": [
    {
     "data": {
      "text/plain": [
       "label\n",
       "0    337\n",
       "1    337\n",
       "Name: count, dtype: int64"
      ]
     },
     "execution_count": 56,
     "metadata": {},
     "output_type": "execute_result"
    }
   ],
   "source": [
    "from imblearn.under_sampling import RandomUnderSampler\n",
    "rus = RandomUnderSampler()\n",
    "x_res, y_res = rus.fit_resample(X, y)\n",
    "y_res.value_counts()"
   ]
  },
  {
   "cell_type": "code",
   "execution_count": 57,
   "id": "a4ca301c",
   "metadata": {},
   "outputs": [],
   "source": [
    "df_res = x_res.copy()\n",
    "df_res['label'] = y_res\n",
    "normal_paths = df_res[df_res['label'] == 0]['path'].to_list()\n",
    "vsd_paths = df_res[df_res['label'] == 1]['path'].to_list()"
   ]
  },
  {
   "cell_type": "code",
   "execution_count": 58,
   "id": "1097d3f8",
   "metadata": {},
   "outputs": [],
   "source": [
    "def preprocess(input_path, output_path, img_size=(224, 224)):\n",
    "    for path in input_path:\n",
    "        img = tf.keras.preprocessing.image.load_img(path, target_size=img_size)\n",
    "        img_array = tf.keras.preprocessing.image.img_to_array(img)\n",
    "\n",
    "        img_array = img_array / 255.0\n",
    "        img_uint8 = tf.image.convert_image_dtype(img_array, dtype=tf.uint8)\n",
    "\n",
    "        filename = os.path.basename(path)\n",
    "        filename = os.path.splitext(filename)[0] + '.png'\n",
    "\n",
    "        output_file = os.path.join(output_path, filename)\n",
    "\n",
    "        tf.keras.utils.save_img(output_file, img_uint8)\n"
   ]
  },
  {
   "cell_type": "code",
   "execution_count": 59,
   "id": "bde17000",
   "metadata": {},
   "outputs": [],
   "source": [
    "preprocess(normal_paths, nor_prepro_path)\n",
    "preprocess(vsd_paths, vsd_prepro_path)"
   ]
  }
 ],
 "metadata": {
  "kernelspec": {
   "display_name": "venv",
   "language": "python",
   "name": "python3"
  },
  "language_info": {
   "codemirror_mode": {
    "name": "ipython",
    "version": 3
   },
   "file_extension": ".py",
   "mimetype": "text/x-python",
   "name": "python",
   "nbconvert_exporter": "python",
   "pygments_lexer": "ipython3",
   "version": "3.12.7"
  }
 },
 "nbformat": 4,
 "nbformat_minor": 5
}
